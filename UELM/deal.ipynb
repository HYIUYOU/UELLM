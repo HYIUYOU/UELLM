{
    "cells": [
        {
            "cell_type": "code",
            "execution_count": 76,
            "metadata": {},
            "outputs": [],
            "source": [
                "import re\n",
                "\n",
                "def parse_tensor_sizes_and_time(log):\n",
                "    tensor_sizes = []\n",
                "    total_time_seconds = 0.0\n",
                "    for line in log.split('\\n'):\n",
                "        if \"outputs torch.Size\" in line:\n",
                "            match = re.findall(r'\\d+', line)\n",
                "            tensor_sizes.append((int(match[0]), int(match[1])))\n",
                "        if \"ODBS time\" in line:\n",
                "            total_time_seconds = float(re.findall(r'\\d+\\.\\d+', line)[0])\n",
                "        if \"baseline time\" in line:\n",
                "            total_time_seconds = float(re.findall(r'\\d+\\.\\d+', line)[0])\n",
                "    return tensor_sizes, total_time_seconds\n",
                "\n",
                "def calculate_tokens_per_second(tensor_sizes, total_time_seconds):\n",
                "    total_tokens = sum(batch_size * seq_length for batch_size, seq_length in tensor_sizes)\n",
                "    tokens_per_second = total_tokens / total_time_seconds\n",
                "    return tokens_per_second\n",
                "\n"
            ]
        },
        {
            "cell_type": "code",
            "execution_count": 77,
            "metadata": {},
            "outputs": [],
            "source": [
                "# Example log\n",
                "log = \"\"\"\n",
                "outputs torch.Size([10, 68])\n",
                "outputs torch.Size([10, 128])\n",
                "outputs torch.Size([10, 176])\n",
                "outputs torch.Size([10, 199])\n",
                "outputs torch.Size([10, 224])\n",
                "outputs torch.Size([10, 243])\n",
                "outputs torch.Size([10, 177])\n",
                "outputs torch.Size([10, 206])\n",
                "outputs torch.Size([10, 396])\n",
                "outputs torch.Size([10, 449])\n",
                "ODBS time: 62.04466891288757\n",
                "ODBS Default Rate: 0.0\n",
                "\"\"\"\n",
                "\n"
            ]
        },
        {
            "cell_type": "code",
            "execution_count": null,
            "metadata": {},
            "outputs": [],
            "source": [
                "# Parse the log and calculate\n",
                "tensor_sizes, total_time_seconds = parse_tensor_sizes_and_time(log)\n",
                "tokens_per_second = calculate_tokens_per_second(tensor_sizes, total_time_seconds)\n",
                "print(f\"The number of tokens generated per second: {tokens_per_second}\")\n"
            ]
        }
    ],
    "metadata": {
        "kernelspec": {
            "display_name": "chatglm3_batch",
            "language": "python",
            "name": "python3"
        },
        "language_info": {
            "codemirror_mode": {
                "name": "ipython",
                "version": 3
            },
            "file_extension": ".py",
            "mimetype": "text/x-python",
            "name": "python",
            "nbconvert_exporter": "python",
            "pygments_lexer": "ipython3",
            "version": "3.10.13"
        }
    },
    "nbformat": 4,
    "nbformat_minor": 2
}
